{
 "cells": [
  {
   "cell_type": "markdown",
   "id": "9198a908",
   "metadata": {},
   "source": [
    "# Data Loading"
   ]
  },
  {
   "cell_type": "code",
   "execution_count": 1,
   "id": "1cf0572e",
   "metadata": {},
   "outputs": [],
   "source": [
    "from scipy.sparse import load_npz\n",
    "import pickle\n",
    "\n",
    "# Load features\n",
    "final_features_loaded = load_npz('data/job_features.npz')\n",
    "\n",
    "# Load preprocessors\n",
    "with open('data/preprocessors.pkl', 'rb') as f:\n",
    "    preprocessors = pickle.load(f)\n",
    "    tfidf_loaded = preprocessors['tfidf']\n",
    "    encoder_loaded = preprocessors['encoder']\n",
    "    feature_columns = preprocessors['feature_columns']"
   ]
  },
  {
   "cell_type": "code",
   "execution_count": null,
   "id": "a2ec58ed",
   "metadata": {},
   "outputs": [],
   "source": []
  }
 ],
 "metadata": {
  "kernelspec": {
   "display_name": "environment",
   "language": "python",
   "name": "python3"
  },
  "language_info": {
   "codemirror_mode": {
    "name": "ipython",
    "version": 3
   },
   "file_extension": ".py",
   "mimetype": "text/x-python",
   "name": "python",
   "nbconvert_exporter": "python",
   "pygments_lexer": "ipython3",
   "version": "3.12.9"
  }
 },
 "nbformat": 4,
 "nbformat_minor": 5
}
